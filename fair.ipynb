{
 "cells": [
  {
   "cell_type": "code",
   "execution_count": 1,
   "metadata": {},
   "outputs": [],
   "source": [
    "%load_ext autoreload\n",
    "%autoreload 2\n",
    "%reload_ext autoreload\n",
    "\n",
    "import numpy as np\n",
    "import pandas as pd\n",
    "import torch\n",
    "torch.cuda.empty_cache()\n",
    "import torch.nn as nn\n",
    "import torch.nn.functional as F\n",
    "import matplotlib.pyplot as plt\n",
    "\n",
    "from scipy.stats import spearmanr\n",
    "from sklearn.decomposition import PCA\n",
    "from sklearn.manifold import TSNE\n",
    "\n",
    "import os\n",
    "import math\n",
    "import random"
   ]
  },
  {
   "cell_type": "code",
   "execution_count": 2,
   "metadata": {},
   "outputs": [],
   "source": [
    "config_name = 'ml_wang'\n",
    "eval_task = 'single'\n",
    "pred_target = 'dep_weekly'"
   ]
  },
  {
   "cell_type": "code",
   "execution_count": 5,
   "metadata": {},
   "outputs": [
    {
     "name": "stdout",
     "output_type": "stream",
     "text": [
      "{'y_pred_', 'y_targ_', 'demographic_test_'}\n"
     ]
    }
   ],
   "source": [
    "ds_key = 'INS-W_1'\n",
    "folder = os.path.join('./tmp/cross_validate/', config_name, eval_task, pred_target, ds_key)\n",
    "\n",
    "dirs = os.listdir(folder)\n",
    "prefices = set([dir[:-7] for dir in dirs])\n",
    "print(prefices)"
   ]
  },
  {
   "cell_type": "code",
   "execution_count": null,
   "metadata": {},
   "outputs": [],
   "source": [
    "cnt = len(dirs) // len(prefices)\n",
    "for k in range(cnt):\n",
    "    path_pred = os.path.join(folder, 'y_pred_{:03d}.npy'.format(k + 1))\n",
    "    path_targ = os.path.join(folder, 'y_targ_{:03d}.csv'.format(k + 1))\n",
    "    path_demo = os.path.join(folder, 'y_demo_{:03d}.csv'.format(k + 1))\n",
    "\n",
    "    "
   ]
  }
 ],
 "metadata": {
  "kernelspec": {
   "display_name": "globem",
   "language": "python",
   "name": "python3"
  },
  "language_info": {
   "codemirror_mode": {
    "name": "ipython",
    "version": 3
   },
   "file_extension": ".py",
   "mimetype": "text/x-python",
   "name": "python",
   "nbconvert_exporter": "python",
   "pygments_lexer": "ipython3",
   "version": "3.7.16"
  },
  "orig_nbformat": 4,
  "vscode": {
   "interpreter": {
    "hash": "4bfcdff16a09c3a8a900822436b616974a44b4040f8b6199185a0c96d02b69fb"
   }
  }
 },
 "nbformat": 4,
 "nbformat_minor": 2
}
