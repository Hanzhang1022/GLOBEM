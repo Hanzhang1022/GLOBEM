{
 "cells": [
  {
   "cell_type": "code",
   "execution_count": 2,
   "metadata": {},
   "outputs": [],
   "source": [
    "%load_ext autoreload\n",
    "%autoreload 2\n",
    "%reload_ext autoreload\n",
    "\n",
    "import numpy as np\n",
    "import pandas as pd\n",
    "import torch\n",
    "torch.cuda.empty_cache()\n",
    "import torch.nn as nn\n",
    "import torch.nn.functional as F\n",
    "import matplotlib.pyplot as plt\n",
    "\n",
    "from scipy.stats import spearmanr\n",
    "from sklearn.decomposition import PCA\n",
    "from sklearn.manifold import TSNE\n",
    "\n",
    "import os\n",
    "import math\n",
    "import random"
   ]
  },
  {
   "cell_type": "code",
   "execution_count": 5,
   "metadata": {},
   "outputs": [],
   "source": [
    "config_name = 'ml_wang'\n",
    "eval_task = 'single'\n",
    "pred_target = 'dep_weekly'"
   ]
  },
  {
   "cell_type": "code",
   "execution_count": 6,
   "metadata": {},
   "outputs": [
    {
     "name": "stdout",
     "output_type": "stream",
     "text": [
      "{'y_pred_', 'y_targ_', 'demographic_test_'}\n"
     ]
    }
   ],
   "source": [
    "ds_key = 'INS-W_1'\n",
    "folder = os.path.join('./tmp/cross_validate/', config_name, eval_task, pred_target, ds_key)\n",
    "# folder = os.path.join('evaluation_output/ml/', config_name, eval_task, pred_target, ds_key)\n",
    "\n",
    "dirs = os.listdir(folder)\n",
    "prefices = set([dir[:-7] for dir in dirs])\n",
    "print(prefices)"
   ]
  },
  {
   "cell_type": "code",
   "execution_count": 10,
   "metadata": {},
   "outputs": [
    {
     "name": "stdout",
     "output_type": "stream",
     "text": [
      "column:gender_DEMO\n",
      "\n",
      "              count  accuracy    recall       fnr       fpr  selection\n",
      "gender_DEMO                                                           \n",
      "1.0          1362.0  0.613069  0.320611  0.679389  0.204057   0.248899\n",
      "2.0          3094.0  0.547511  0.187924  0.812076  0.125309   0.155139\n",
      "column:race_DEMO\n",
      "\n",
      "            count  accuracy    recall       fnr       fpr  selection\n",
      "race_DEMO                                                           \n",
      "0.0        2152.0  0.538104  0.275769  0.724231  0.184512   0.231413\n",
      "1.0        1432.0  0.632682  0.085774  0.914226  0.093291   0.090782\n",
      "2.0         612.0  0.514706  0.232704  0.767296  0.180272   0.207516\n",
      "3.0          88.0  0.625000  0.340000  0.660000  0.000000   0.193182\n",
      "4.0         172.0  0.552326  0.173913  0.826087  0.309524   0.273256\n",
      "column:orientation_heterosexual_DEMO\n",
      "\n",
      "                                count  accuracy    recall       fnr       fpr  \\\n",
      "orientation_heterosexual_DEMO                                                   \n",
      "0.0                             514.0  0.459144  0.161074  0.838926  0.129630   \n",
      "1.0                            3942.0  0.581684  0.233529  0.766471  0.154326   \n",
      "\n",
      "                               selection  \n",
      "orientation_heterosexual_DEMO             \n",
      "0.0                             0.147860  \n",
      "1.0                             0.188483  \n",
      "column:student_international_DEMO\n",
      "\n",
      "                             count  accuracy    recall       fnr       fpr  \\\n",
      "student_international_DEMO                                                   \n",
      "0.0                         4096.0  0.562988  0.207641  0.792359  0.156769   \n",
      "1.0                          360.0  0.619444  0.364583  0.635417  0.089286   \n",
      "\n",
      "                            selection  \n",
      "student_international_DEMO             \n",
      "0.0                          0.179199  \n",
      "1.0                          0.236111  \n",
      "column:student_1stGen_DEMO\n",
      "\n",
      "                      count  accuracy    recall       fnr       fpr  selection\n",
      "student_1stGen_DEMO                                                           \n",
      "0.0                  3158.0  0.582964  0.216885  0.783115  0.135090   0.170678\n",
      "1.0                  1298.0  0.530046  0.235577  0.764423  0.197329   0.215716\n",
      "column:college_engineer_DEMO\n",
      "\n",
      "                        count  accuracy    recall       fnr       fpr  \\\n",
      "college_engineer_DEMO                                                   \n",
      "0.0                    2698.0  0.575612  0.201377  0.798623  0.141276   \n",
      "1.0                    1758.0  0.555176  0.252392  0.747608  0.170282   \n",
      "\n",
      "                       selection  \n",
      "college_engineer_DEMO             \n",
      "0.0                     0.167161  \n",
      "1.0                     0.209329  \n",
      "column:parent_edu_mother_DEMO\n",
      "\n",
      "                         count  accuracy    recall       fnr       fpr  \\\n",
      "parent_edu_mother_DEMO                                                   \n",
      "0.0                     1766.0  0.511891  0.219239  0.780761  0.188073   \n",
      "1.0                     2690.0  0.604089  0.225543  0.774457  0.132409   \n",
      "\n",
      "                        selection  \n",
      "parent_edu_mother_DEMO             \n",
      "0.0                      0.203851  \n",
      "1.0                      0.170632  \n",
      "column:parent_edu_father_DEMO\n",
      "\n",
      "                         count  accuracy    recall       fnr       fpr  \\\n",
      "parent_edu_father_DEMO                                                   \n",
      "0.0                     1710.0  0.531579  0.223716  0.776284  0.186099   \n",
      "1.0                     2746.0  0.589949  0.222034  0.777966  0.132822   \n",
      "\n",
      "                        selection  \n",
      "parent_edu_father_DEMO             \n",
      "0.0                      0.204094  \n",
      "1.0                      0.171158  \n",
      "column:generation_DEMO\n",
      "\n",
      "                  count  accuracy    recall       fnr       fpr  selection\n",
      "generation_DEMO                                                           \n",
      "0.0              3478.0  0.571593  0.207447  0.792553  0.150963   0.175388\n",
      "1.0               978.0  0.553170  0.269231  0.730769  0.157025   0.213701\n"
     ]
    }
   ],
   "source": [
    "from fairlearn.metrics import MetricFrame, false_positive_rate, selection_rate, false_negative_rate, count\n",
    "from sklearn.metrics import accuracy_score, recall_score\n",
    "\n",
    "cnt = len(dirs) // len(prefices)\n",
    "preds = []\n",
    "targs = []\n",
    "demos = []\n",
    "for k in range(cnt):\n",
    "    path_pred = os.path.join(folder, 'y_pred_{:03d}.npy'.format(k + 1))\n",
    "    path_targ = os.path.join(folder, 'y_targ_{:03d}.csv'.format(k + 1))\n",
    "    path_demo = os.path.join(folder, 'demographic_test_{:03d}.csv'.format(k + 1))\n",
    "\n",
    "    pred = np.load(path_pred, allow_pickle=True)\n",
    "    targ = pd.read_csv(path_targ)[\"y_raw\"]\n",
    "    demo = pd.read_csv(path_demo).iloc[:, 1:]\n",
    "\n",
    "    preds.append(pred)\n",
    "    targs.append(targ)\n",
    "    demos.append(demo)\n",
    "\n",
    "pred = np.concatenate(preds)\n",
    "targ = pd.concat(targs)\n",
    "demo = pd.concat(demos)\n",
    "\n",
    "metrics = {\"count\": count, \"accuracy\": accuracy_score, \n",
    "    \"recall\": recall_score, \"fnr\": false_negative_rate, \n",
    "    \"fpr\": false_positive_rate, \"selection\": selection_rate}\n",
    "\n",
    "mfs = {}\n",
    "for col in demo.columns:\n",
    "    print(f\"column:{col}\\n\")\n",
    "    mf = MetricFrame(metrics=metrics, y_true=targ, y_pred=pred, sensitive_features=demo[col])\n",
    "    print(mf.by_group)\n",
    "    mfs[col] = (mf)\n",
    "\n",
    "    "
   ]
  },
  {
   "cell_type": "code",
   "execution_count": 11,
   "metadata": {},
   "outputs": [
    {
     "name": "stdout",
     "output_type": "stream",
     "text": [
      "dict_keys(['gender_DEMO', 'race_DEMO', 'orientation_heterosexual_DEMO', 'student_international_DEMO', 'student_1stGen_DEMO', 'college_engineer_DEMO', 'parent_edu_mother_DEMO', 'parent_edu_father_DEMO', 'generation_DEMO'])\n"
     ]
    }
   ],
   "source": [
    "print(mfs.keys())"
   ]
  },
  {
   "cell_type": "code",
   "execution_count": 13,
   "metadata": {},
   "outputs": [
    {
     "name": "stdout",
     "output_type": "stream",
     "text": [
      "<class 'pandas.core.frame.DataFrame'>\n",
      "              count  accuracy    recall       fnr       fpr  selection\n",
      "gender_DEMO                                                           \n",
      "1.0          1362.0  0.613069  0.320611  0.679389  0.204057   0.248899\n",
      "2.0          3094.0  0.547511  0.187924  0.812076  0.125309   0.155139\n"
     ]
    }
   ],
   "source": [
    "print(type(mfs['gender_DEMO'].by_group))\n",
    "print(mfs['gender_DEMO'].by_group)"
   ]
  },
  {
   "cell_type": "code",
   "execution_count": 14,
   "metadata": {},
   "outputs": [],
   "source": [
    "def mkdir(path):\n",
    "\tif not os.path.exists(path):\n",
    "\t\tos.makedirs(path)"
   ]
  },
  {
   "cell_type": "code",
   "execution_count": 16,
   "metadata": {},
   "outputs": [],
   "source": [
    "folder_output = os.path.join('./tmp/cross_validate_output/', config_name, eval_task, pred_target, ds_key)\n",
    "mkdir(os.path.join(folder_output))\n",
    "for col, mf in mfs.items():\n",
    "    mf.by_group.to_csv(os.path.join(folder_output, '{}_by_group.csv'.format(col)))\n",
    "    mf.overall.to_csv(os.path.join(folder_output, '{}_overall.csv'.format(col)))"
   ]
  },
  {
   "cell_type": "code",
   "execution_count": 17,
   "metadata": {},
   "outputs": [
    {
     "name": "stderr",
     "output_type": "stream",
     "text": [
      "/homes/gws/ylsheng/miniconda3/envs/globem/lib/python3.7/site-packages/sklearn/metrics/_classification.py:1318: UndefinedMetricWarning: Recall is ill-defined and being set to 0.0 due to no true samples. Use `zero_division` parameter to control this behavior.\n",
      "  _warn_prf(average, modifier, msg_start, len(result))\n"
     ]
    }
   ],
   "source": [
    "config_names = ['ml_wang', 'ml_xu_interpretable', 'ml_xu_personalized']\n",
    "eval_task = 'single'\n",
    "pred_target = 'dep_weekly'\n",
    "ds_keys = ['INS-W_1', 'INS-W_2', 'INS-W_3', 'INS-W_4']\n",
    "\n",
    "for config_name in config_names:\n",
    "    for ds_key in ds_keys:\n",
    "        folder = os.path.join('./tmp/cross_validate/', config_name, eval_task, pred_target, ds_key)\n",
    "        dirs = os.listdir(folder)\n",
    "        prefices = set([dir[:-7] for dir in dirs])\n",
    "        cnt = len(dirs) // len(prefices)\n",
    "        preds = []\n",
    "        targs = []\n",
    "        demos = []\n",
    "        for k in range(cnt):\n",
    "            path_pred = os.path.join(folder, 'y_pred_{:03d}.npy'.format(k + 1))\n",
    "            path_targ = os.path.join(folder, 'y_targ_{:03d}.csv'.format(k + 1))\n",
    "            path_demo = os.path.join(folder, 'demographic_test_{:03d}.csv'.format(k + 1))\n",
    "\n",
    "            pred = np.load(path_pred, allow_pickle=True)\n",
    "            targ = pd.read_csv(path_targ)[\"y_raw\"]\n",
    "            demo = pd.read_csv(path_demo).iloc[:, 1:]\n",
    "\n",
    "            preds.append(pred)\n",
    "            targs.append(targ)\n",
    "            demos.append(demo)\n",
    "\n",
    "        pred = np.concatenate(preds)\n",
    "        targ = pd.concat(targs)\n",
    "        demo = pd.concat(demos)\n",
    "\n",
    "        metrics = {\"count\": count, \"accuracy\": accuracy_score, \n",
    "            \"recall\": recall_score, \"fnr\": false_negative_rate, \n",
    "            \"fpr\": false_positive_rate, \"selection\": selection_rate}\n",
    "\n",
    "        mfs = {}\n",
    "        for col in demo.columns:\n",
    "            mf = MetricFrame(metrics=metrics, y_true=targ, y_pred=pred, sensitive_features=demo[col])\n",
    "            mfs[col] = (mf)\n",
    "\n",
    "        folder_output = os.path.join('./tmp/cross_validate_output/', config_name, eval_task, pred_target, ds_key)\n",
    "        mkdir(os.path.join(folder_output))\n",
    "        for col, mf in mfs.items():\n",
    "            mf.by_group.to_csv(os.path.join(folder_output, '{}_by_group.csv'.format(col)))\n",
    "            mf.overall.to_csv(os.path.join(folder_output, '{}_overall.csv'.format(col)))"
   ]
  }
 ],
 "metadata": {
  "kernelspec": {
   "display_name": "globem",
   "language": "python",
   "name": "python3"
  },
  "language_info": {
   "codemirror_mode": {
    "name": "ipython",
    "version": 3
   },
   "file_extension": ".py",
   "mimetype": "text/x-python",
   "name": "python",
   "nbconvert_exporter": "python",
   "pygments_lexer": "ipython3",
   "version": "3.7.16"
  },
  "orig_nbformat": 4,
  "vscode": {
   "interpreter": {
    "hash": "4bfcdff16a09c3a8a900822436b616974a44b4040f8b6199185a0c96d02b69fb"
   }
  }
 },
 "nbformat": 4,
 "nbformat_minor": 2
}
